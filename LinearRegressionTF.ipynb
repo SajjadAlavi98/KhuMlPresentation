{
  "nbformat": 4,
  "nbformat_minor": 0,
  "metadata": {
    "colab": {
      "provenance": []
    },
    "kernelspec": {
      "name": "python3",
      "display_name": "Python 3"
    },
    "language_info": {
      "name": "python"
    }
  },
  "cells": [
    {
      "cell_type": "code",
      "execution_count": 1,
      "metadata": {
        "id": "0S56p57ynyHT"
      },
      "outputs": [],
      "source": [
        "from __future__ import absolute_import, division, print_function"
      ]
    },
    {
      "cell_type": "code",
      "source": [
        "import tensorflow as tf\n",
        "import numpy as np\n",
        "rng = np.random"
      ],
      "metadata": {
        "id": "wAhY4m-6oJ13"
      },
      "execution_count": 2,
      "outputs": []
    },
    {
      "cell_type": "code",
      "source": [
        "# Parameters.\n",
        "learning_rate = 0.01\n",
        "training_steps = 1000\n",
        "display_step = 50"
      ],
      "metadata": {
        "id": "G9IBrJ-NoO6P"
      },
      "execution_count": 3,
      "outputs": []
    },
    {
      "cell_type": "code",
      "source": [
        "X = np.array([3.3,4.4,5.5,6.71,6.93,4.168,9.779,6.182,7.59,2.167,\n",
        "              7.042,10.791,5.313,7.997,5.654,9.27,3.1])\n",
        "Y = np.array([1.7,2.76,2.09,3.19,1.694,1.573,3.366,2.596,2.53,1.221,\n",
        "              2.827,3.465,1.65,2.904,2.42,2.94,1.3])"
      ],
      "metadata": {
        "id": "6xX-H4sgoUJ7"
      },
      "execution_count": 4,
      "outputs": []
    },
    {
      "cell_type": "code",
      "source": [
        "# Weight and Bias, initialized randomly.\n",
        "W = tf.Variable(rng.randn(), name=\"weight\")\n",
        "b = tf.Variable(rng.randn(), name=\"bias\")\n",
        "\n",
        "# Linear regression (Wx + b).\n",
        "def linear_regression(x):\n",
        "    return W * x + b\n",
        "\n",
        "# Mean square error.\n",
        "def mean_square(y_pred, y_true):\n",
        "    return tf.reduce_mean(tf.square(y_pred - y_true))\n",
        "\n",
        "# Stochastic Gradient Descent Optimizer.\n",
        "optimizer = tf.optimizers.SGD(learning_rate)"
      ],
      "metadata": {
        "id": "K2U7sFqZoYQ_"
      },
      "execution_count": 5,
      "outputs": []
    },
    {
      "cell_type": "code",
      "source": [
        "# Optimization process. \n",
        "def run_optimization():\n",
        "    # Wrap computation inside a GradientTape for automatic differentiation.\n",
        "    with tf.GradientTape() as g:\n",
        "        pred = linear_regression(X)\n",
        "        loss = mean_square(pred, Y)\n",
        "\n",
        "    # Compute gradients.\n",
        "    gradients = g.gradient(loss, [W, b])\n",
        "    \n",
        "    # Update W and b following gradients.\n",
        "    optimizer.apply_gradients(zip(gradients, [W, b]))"
      ],
      "metadata": {
        "id": "2cxd_F8Wobtb"
      },
      "execution_count": 6,
      "outputs": []
    },
    {
      "cell_type": "code",
      "source": [
        "# Run training for the given number of steps.\n",
        "for step in range(1, training_steps + 1):\n",
        "    # Run the optimization to update W and b values.\n",
        "    run_optimization()\n",
        "    \n",
        "    if step % display_step == 0:\n",
        "        pred = linear_regression(X)\n",
        "        loss = mean_square(pred, Y)\n",
        "        print(\"step: %i, loss: %f, W: %f, b: %f\" % (step, loss, W.numpy(), b.numpy()))"
      ],
      "metadata": {
        "colab": {
          "base_uri": "https://localhost:8080/"
        },
        "id": "qgWULEUDohm8",
        "outputId": "b7082735-0700-400f-f7d3-af584194e32b"
      },
      "execution_count": 7,
      "outputs": [
        {
          "output_type": "stream",
          "name": "stdout",
          "text": [
            "step: 50, loss: 0.418843, W: 0.458000, b: -0.664231\n",
            "step: 100, loss: 0.361665, W: 0.434384, b: -0.496808\n",
            "step: 150, loss: 0.316825, W: 0.413471, b: -0.348544\n",
            "step: 200, loss: 0.281661, W: 0.394951, b: -0.217246\n",
            "step: 250, loss: 0.254084, W: 0.378551, b: -0.100974\n",
            "step: 300, loss: 0.232457, W: 0.364027, b: 0.001993\n",
            "step: 350, loss: 0.215497, W: 0.351165, b: 0.093176\n",
            "step: 400, loss: 0.202197, W: 0.339775, b: 0.173925\n",
            "step: 450, loss: 0.191767, W: 0.329689, b: 0.245433\n",
            "step: 500, loss: 0.183587, W: 0.320757, b: 0.308758\n",
            "step: 550, loss: 0.177172, W: 0.312847, b: 0.364837\n",
            "step: 600, loss: 0.172141, W: 0.305842, b: 0.414498\n",
            "step: 650, loss: 0.168196, W: 0.299639, b: 0.458476\n",
            "step: 700, loss: 0.165102, W: 0.294145, b: 0.497422\n",
            "step: 750, loss: 0.162676, W: 0.289281, b: 0.531910\n",
            "step: 800, loss: 0.160773, W: 0.284973, b: 0.562452\n",
            "step: 850, loss: 0.159281, W: 0.281158, b: 0.589499\n",
            "step: 900, loss: 0.158111, W: 0.277779, b: 0.613451\n",
            "step: 950, loss: 0.157193, W: 0.274787, b: 0.634662\n",
            "step: 1000, loss: 0.156473, W: 0.272138, b: 0.653445\n"
          ]
        }
      ]
    },
    {
      "cell_type": "code",
      "source": [
        "import matplotlib.pyplot as plt\n"
      ],
      "metadata": {
        "id": "6kTxxq8monYR"
      },
      "execution_count": 8,
      "outputs": []
    },
    {
      "cell_type": "code",
      "source": [
        "# Graphic display\n",
        "plt.plot(X, Y, 'ro', label='Original data')\n",
        "plt.plot(X, np.array(W * X + b), label='Fitted line')\n",
        "plt.legend()\n",
        "plt.show()"
      ],
      "metadata": {
        "colab": {
          "base_uri": "https://localhost:8080/",
          "height": 265
        },
        "id": "SZejVlRUo5Xe",
        "outputId": "ba81bbf5-d219-401c-ab63-f873c8dd444c"
      },
      "execution_count": 9,
      "outputs": [
        {
          "output_type": "display_data",
          "data": {
            "text/plain": [
              "<Figure size 432x288 with 1 Axes>"
            ],
            "image/png": "[encoded data removed]"
          },
          "metadata": {
            "needs_background": "light"
          }
        }
      ]
    },
    {
      "cell_type": "code",
      "source": [],
      "metadata": {
        "id": "u2Q7hG67o9_-"
      },
      "execution_count": null,
      "outputs": []
    }
  ]
}