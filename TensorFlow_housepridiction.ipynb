{
  "nbformat": 4,
  "nbformat_minor": 0,
  "metadata": {
    "colab": {
      "provenance": []
    },
    "kernelspec": {
      "name": "python3",
      "display_name": "Python 3"
    },
    "language_info": {
      "name": "python"
    }
  },
  "cells": [
    {
      "cell_type": "markdown",
      "source": [
        "In this example, we use the Boston Housing dataset, which contains information about the size and price of houses in the Boston area. We use TensorFlow's Sequential model to build a simple linear model, with a single input feature (the size of the house) and a single output (the price of the house). We then compile the model with the SGD optimizer and the mean squared error loss function, and use the fit method to train the model on the training data. Finally, we evaluate the model on the test data and use the predict method to make some predictions."
      ],
      "metadata": {
        "id": "lsWmRKCZ5Bds"
      }
    },
    {
      "cell_type": "code",
      "source": [
        "import tensorflow as tf\n",
        "\n",
        "# Load the data\n",
        "(x_train, y_train), (x_test, y_test) = tf.keras.datasets.boston_housing.load_data()\n",
        "\n",
        "# Scale the input data\n",
        "x_train = x_train[:, [0]]  # Use only the first feature (house size)\n",
        "x_test = x_test[:, [0]]\n",
        "x_train = (x_train - x_train.mean()) / x_train.std()\n",
        "x_test = (x_test - x_test.mean()) / x_test.std()\n",
        "\n",
        "# Build the model\n",
        "model = tf.keras.Sequential()\n",
        "model.add(tf.keras.layers.Input(shape=(1,)))\n",
        "model.add(tf.keras.layers.Dense(1))\n",
        "\n",
        "# Compile the model\n",
        "model.compile(optimizer=tf.keras.optimizers.SGD(), loss='mean_squared_error')\n",
        "\n",
        "# Train the model\n",
        "history = model.fit(x_train, y_train, epochs=25, batch_size=32, validation_split=0.2)\n",
        "\n",
        "# Evaluate the model\n",
        "loss = model.evaluate(x_test, y_test, batch_size=32)\n",
        "print('Test loss:', loss)\n",
        "\n",
        "# Make predictions\n",
        "predictions = model.predict(x_test)\n"
      ],
      "metadata": {
        "colab": {
          "base_uri": "https://localhost:8080/"
        },
        "id": "1N1a8VUV7UEB",
        "outputId": "44d2a6fb-49a5-4740-e2bb-e39b84167d96"
      },
      "execution_count": 12,
      "outputs": [
        {
          "output_type": "stream",
          "name": "stdout",
          "text": [
            "Epoch 1/25\n",
            "11/11 [==============================] - 0s 14ms/step - loss: 490.9775 - val_loss: 450.0329\n",
            "Epoch 2/25\n",
            "11/11 [==============================] - 0s 4ms/step - loss: 342.2875 - val_loss: 327.2904\n",
            "Epoch 3/25\n",
            "11/11 [==============================] - 0s 4ms/step - loss: 248.9301 - val_loss: 242.6194\n",
            "Epoch 4/25\n",
            "11/11 [==============================] - 0s 4ms/step - loss: 185.7193 - val_loss: 188.9444\n",
            "Epoch 5/25\n",
            "11/11 [==============================] - 0s 4ms/step - loss: 146.3933 - val_loss: 152.1972\n",
            "Epoch 6/25\n",
            "11/11 [==============================] - 0s 4ms/step - loss: 120.1901 - val_loss: 125.9749\n",
            "Epoch 7/25\n",
            "11/11 [==============================] - 0s 3ms/step - loss: 102.1934 - val_loss: 110.1914\n",
            "Epoch 8/25\n",
            "11/11 [==============================] - 0s 4ms/step - loss: 91.7420 - val_loss: 99.8324\n",
            "Epoch 9/25\n",
            "11/11 [==============================] - 0s 4ms/step - loss: 85.1969 - val_loss: 93.7273\n",
            "Epoch 10/25\n",
            "11/11 [==============================] - 0s 4ms/step - loss: 81.1470 - val_loss: 88.2150\n",
            "Epoch 11/25\n",
            "11/11 [==============================] - 0s 5ms/step - loss: 78.0597 - val_loss: 84.7076\n",
            "Epoch 12/25\n",
            "11/11 [==============================] - 0s 5ms/step - loss: 76.1866 - val_loss: 82.1940\n",
            "Epoch 13/25\n",
            "11/11 [==============================] - 0s 4ms/step - loss: 74.9754 - val_loss: 79.9685\n",
            "Epoch 14/25\n",
            "11/11 [==============================] - 0s 5ms/step - loss: 74.0357 - val_loss: 78.5628\n",
            "Epoch 15/25\n",
            "11/11 [==============================] - 0s 4ms/step - loss: 73.4211 - val_loss: 77.9542\n",
            "Epoch 16/25\n",
            "11/11 [==============================] - 0s 4ms/step - loss: 73.1929 - val_loss: 77.1329\n",
            "Epoch 17/25\n",
            "11/11 [==============================] - 0s 5ms/step - loss: 72.9509 - val_loss: 76.4386\n",
            "Epoch 18/25\n",
            "11/11 [==============================] - 0s 4ms/step - loss: 72.7899 - val_loss: 76.1251\n",
            "Epoch 19/25\n",
            "11/11 [==============================] - 0s 4ms/step - loss: 72.7054 - val_loss: 75.0927\n",
            "Epoch 20/25\n",
            "11/11 [==============================] - 0s 4ms/step - loss: 72.4545 - val_loss: 74.9322\n",
            "Epoch 21/25\n",
            "11/11 [==============================] - 0s 4ms/step - loss: 72.4120 - val_loss: 75.1207\n",
            "Epoch 22/25\n",
            "11/11 [==============================] - 0s 4ms/step - loss: 72.5027 - val_loss: 74.4950\n",
            "Epoch 23/25\n",
            "11/11 [==============================] - 0s 4ms/step - loss: 72.3563 - val_loss: 74.5442\n",
            "Epoch 24/25\n",
            "11/11 [==============================] - 0s 4ms/step - loss: 72.3724 - val_loss: 74.4091\n",
            "Epoch 25/25\n",
            "11/11 [==============================] - 0s 4ms/step - loss: 72.3860 - val_loss: 74.3630\n",
            "4/4 [==============================] - 0s 3ms/step - loss: 65.0865\n"
          ]
        },
        {
          "output_type": "stream",
          "name": "stderr",
          "text": [
            "WARNING:tensorflow:5 out of the last 13 calls to <function Model.make_predict_function.<locals>.predict_function at 0x7fa0b24b7820> triggered tf.function retracing. Tracing is expensive and the excessive number of tracings could be due to (1) creating @tf.function repeatedly in a loop, (2) passing tensors with different shapes, (3) passing Python objects instead of tensors. For (1), please define your @tf.function outside of the loop. For (2), @tf.function has reduce_retracing=True option that can avoid unnecessary retracing. For (3), please refer to https://www.tensorflow.org/guide/function#controlling_retracing and https://www.tensorflow.org/api_docs/python/tf/function for  more details.\n"
          ]
        },
        {
          "output_type": "stream",
          "name": "stdout",
          "text": [
            "Test loss: 65.08649444580078\n",
            "4/4 [==============================] - 0s 3ms/step\n"
          ]
        }
      ]
    },
    {
      "cell_type": "markdown",
      "source": [
        "To use the linear regression model to predict the price of a house, we can use the predict method of the model. The predict method takes a NumPy array of input data and returns a NumPy array of predictions.\n",
        "\n",
        "Here is an example of how you can use the model to make a prediction for a single house:"
      ],
      "metadata": {
        "id": "Hg2RzhzrCgjz"
      }
    },
    {
      "cell_type": "code",
      "source": [
        "import numpy as np\n",
        "\n",
        "# Make a prediction for a house with size 2000 sq. ft.\n",
        "x_new = np.array([[2000]])  # Shape (1, 1)\n",
        "y_pred = model.predict(x_new)\n",
        "print('Predicted price: $', abs(y_pred[0][0]))\n"
      ],
      "metadata": {
        "colab": {
          "base_uri": "https://localhost:8080/"
        },
        "id": "-KDeHJVZAp2W",
        "outputId": "3b3c03aa-3e32-4198-dc42-9b5339db756c"
      },
      "execution_count": 13,
      "outputs": [
        {
          "output_type": "stream",
          "name": "stderr",
          "text": [
            "WARNING:tensorflow:5 out of the last 13 calls to <function Model.make_predict_function.<locals>.predict_function at 0x7fa0b24b7820> triggered tf.function retracing. Tracing is expensive and the excessive number of tracings could be due to (1) creating @tf.function repeatedly in a loop, (2) passing tensors with different shapes, (3) passing Python objects instead of tensors. For (1), please define your @tf.function outside of the loop. For (2), @tf.function has reduce_retracing=True option that can avoid unnecessary retracing. For (3), please refer to https://www.tensorflow.org/guide/function#controlling_retracing and https://www.tensorflow.org/api_docs/python/tf/function for  more details.\n"
          ]
        },
        {
          "output_type": "stream",
          "name": "stdout",
          "text": [
            "1/1 [==============================] - 0s 40ms/step\n",
            "Predicted price: $ 6549.998\n"
          ]
        }
      ]
    },
    {
      "cell_type": "code",
      "source": [],
      "metadata": {
        "id": "q68zgCOgA1dD"
      },
      "execution_count": null,
      "outputs": []
    }
  ]
}